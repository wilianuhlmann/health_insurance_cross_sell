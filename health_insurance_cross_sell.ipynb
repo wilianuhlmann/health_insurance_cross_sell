{
 "cells": [
  {
   "cell_type": "code",
   "execution_count": null,
   "id": "49d37cc6-2a06-4a11-901b-2eb65a796edd",
   "metadata": {},
   "outputs": [],
   "source": [
    "!git add ."
   ]
  },
  {
   "cell_type": "code",
   "execution_count": null,
   "id": "e41eb32d-b4b1-45bd-9694-9bfadbfc98df",
   "metadata": {},
   "outputs": [],
   "source": [
    "!git commit -m \"Descrição do problema, criação do notebook e dataset\""
   ]
  },
  {
   "cell_type": "code",
   "execution_count": null,
   "id": "42d702f3-694e-436e-8705-f8ade5c6b70c",
   "metadata": {},
   "outputs": [],
   "source": [
    "!git push origin main"
   ]
  },
  {
   "cell_type": "markdown",
   "id": "6097c304-dfa7-490c-b3f9-204f2cce7de8",
   "metadata": {},
   "source": [
    "## The problem:"
   ]
  },
  {
   "cell_type": "markdown",
   "id": "15d4b576-a5d4-4940-9ee3-130c8f6792b9",
   "metadata": {},
   "source": [
    "Uma empresa de seguros de saúde precisa detectar os clientes que são mais propensos a comprar um seguro de automóvel. \n",
    "\n",
    "O desafio é calcular a propensão de compra de cada cliente da base e retornar para o time de negócio, uma lista priorizada, começando pelo cliente mais propenso até o menor propenso."
   ]
  },
  {
   "cell_type": "markdown",
   "id": "578ad84d-f6b1-422b-be27-f43c0070f5f0",
   "metadata": {},
   "source": [
    "# 0.0. Imports"
   ]
  },
  {
   "cell_type": "markdown",
   "id": "7d6e3ee2-e787-4f57-999b-252251c01813",
   "metadata": {},
   "source": [
    "## 0.1. lib imports"
   ]
  },
  {
   "cell_type": "code",
   "execution_count": 12,
   "id": "ae20f8b1-503a-45e2-bc04-0a08073ab0ac",
   "metadata": {},
   "outputs": [],
   "source": [
    "from acessos import database_name, host, port, user"
   ]
  },
  {
   "cell_type": "code",
   "execution_count": 10,
   "id": "fead5005-6761-4c58-9256-f5b8c6abd7b3",
   "metadata": {},
   "outputs": [
    {
     "name": "stdout",
     "output_type": "stream",
     "text": [
      "dsfdsf\n"
     ]
    }
   ],
   "source": [
    "print('dsfdsf')"
   ]
  },
  {
   "cell_type": "code",
   "execution_count": null,
   "id": "2f20cbe7-428d-4f52-baf0-3757dd9f6529",
   "metadata": {},
   "outputs": [],
   "source": []
  }
 ],
 "metadata": {
  "kernelspec": {
   "display_name": "Python 3 (ipykernel)",
   "language": "python",
   "name": "python3"
  },
  "language_info": {
   "codemirror_mode": {
    "name": "ipython",
    "version": 3
   },
   "file_extension": ".py",
   "mimetype": "text/x-python",
   "name": "python",
   "nbconvert_exporter": "python",
   "pygments_lexer": "ipython3",
   "version": "3.8.10"
  }
 },
 "nbformat": 4,
 "nbformat_minor": 5
}
